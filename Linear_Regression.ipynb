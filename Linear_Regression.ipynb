{
  "nbformat": 4,
  "nbformat_minor": 0,
  "metadata": {
    "colab": {
      "name": "Linear_Regression.ipynb",
      "provenance": [],
      "collapsed_sections": []
    },
    "kernelspec": {
      "name": "python3",
      "display_name": "Python 3"
    },
    "language_info": {
      "name": "python"
    }
  },
  "cells": [
    {
      "cell_type": "markdown",
      "metadata": {
        "id": "CK8cTzgiRXKo"
      },
      "source": [
        "Importing necessary packages"
      ]
    },
    {
      "cell_type": "code",
      "metadata": {
        "id": "1BR6_JpPg1xM"
      },
      "source": [
        "import matplotlib.pyplot as plt\n",
        "import numpy as np\n",
        "import pandas as pd"
      ],
      "execution_count": null,
      "outputs": []
    },
    {
      "cell_type": "markdown",
      "metadata": {
        "id": "FQnClkflHJaH"
      },
      "source": [
        "Pulling Data"
      ]
    },
    {
      "cell_type": "code",
      "metadata": {
        "colab": {
          "base_uri": "https://localhost:8080/",
          "height": 204
        },
        "id": "fAHlkmhRGl5J",
        "outputId": "389ad3e4-d8c2-442f-89b1-cb24d2937180"
      },
      "source": [
        "from sklearn.datasets import fetch_openml\n",
        "\n",
        "dat = fetch_openml(name='pollution', as_frame=True, version=1)\n",
        "df = pd.DataFrame(dat['data'], columns=dat['feature_names'])\n",
        "df['target'] = dat['target']\n",
        "df.head()\n",
        "#dat"
      ],
      "execution_count": null,
      "outputs": [
        {
          "output_type": "execute_result",
          "data": {
            "text/html": [
              "<div>\n",
              "<style scoped>\n",
              "    .dataframe tbody tr th:only-of-type {\n",
              "        vertical-align: middle;\n",
              "    }\n",
              "\n",
              "    .dataframe tbody tr th {\n",
              "        vertical-align: top;\n",
              "    }\n",
              "\n",
              "    .dataframe thead th {\n",
              "        text-align: right;\n",
              "    }\n",
              "</style>\n",
              "<table border=\"1\" class=\"dataframe\">\n",
              "  <thead>\n",
              "    <tr style=\"text-align: right;\">\n",
              "      <th></th>\n",
              "      <th>PREC</th>\n",
              "      <th>JANT</th>\n",
              "      <th>JULT</th>\n",
              "      <th>OVR65</th>\n",
              "      <th>POPN</th>\n",
              "      <th>EDUC</th>\n",
              "      <th>HOUS</th>\n",
              "      <th>DENS</th>\n",
              "      <th>NONW</th>\n",
              "      <th>WWDRK</th>\n",
              "      <th>POOR</th>\n",
              "      <th>HC</th>\n",
              "      <th>NOX</th>\n",
              "      <th>SO2</th>\n",
              "      <th>HUMID</th>\n",
              "      <th>target</th>\n",
              "    </tr>\n",
              "  </thead>\n",
              "  <tbody>\n",
              "    <tr>\n",
              "      <th>0</th>\n",
              "      <td>36.0</td>\n",
              "      <td>27.0</td>\n",
              "      <td>71.0</td>\n",
              "      <td>8.1</td>\n",
              "      <td>3.34</td>\n",
              "      <td>11.4</td>\n",
              "      <td>81.5</td>\n",
              "      <td>3243.0</td>\n",
              "      <td>8.8</td>\n",
              "      <td>42.6</td>\n",
              "      <td>11.7</td>\n",
              "      <td>21.0</td>\n",
              "      <td>15.0</td>\n",
              "      <td>59.0</td>\n",
              "      <td>59.0</td>\n",
              "      <td>921.870</td>\n",
              "    </tr>\n",
              "    <tr>\n",
              "      <th>1</th>\n",
              "      <td>35.0</td>\n",
              "      <td>23.0</td>\n",
              "      <td>72.0</td>\n",
              "      <td>11.1</td>\n",
              "      <td>3.14</td>\n",
              "      <td>11.0</td>\n",
              "      <td>78.8</td>\n",
              "      <td>4281.0</td>\n",
              "      <td>3.5</td>\n",
              "      <td>50.7</td>\n",
              "      <td>14.4</td>\n",
              "      <td>8.0</td>\n",
              "      <td>10.0</td>\n",
              "      <td>39.0</td>\n",
              "      <td>57.0</td>\n",
              "      <td>997.875</td>\n",
              "    </tr>\n",
              "    <tr>\n",
              "      <th>2</th>\n",
              "      <td>44.0</td>\n",
              "      <td>29.0</td>\n",
              "      <td>74.0</td>\n",
              "      <td>10.4</td>\n",
              "      <td>3.21</td>\n",
              "      <td>9.8</td>\n",
              "      <td>81.6</td>\n",
              "      <td>4260.0</td>\n",
              "      <td>0.8</td>\n",
              "      <td>39.4</td>\n",
              "      <td>12.4</td>\n",
              "      <td>6.0</td>\n",
              "      <td>6.0</td>\n",
              "      <td>33.0</td>\n",
              "      <td>54.0</td>\n",
              "      <td>962.354</td>\n",
              "    </tr>\n",
              "    <tr>\n",
              "      <th>3</th>\n",
              "      <td>47.0</td>\n",
              "      <td>45.0</td>\n",
              "      <td>79.0</td>\n",
              "      <td>6.5</td>\n",
              "      <td>3.41</td>\n",
              "      <td>11.1</td>\n",
              "      <td>77.5</td>\n",
              "      <td>3125.0</td>\n",
              "      <td>27.1</td>\n",
              "      <td>50.2</td>\n",
              "      <td>20.6</td>\n",
              "      <td>18.0</td>\n",
              "      <td>8.0</td>\n",
              "      <td>24.0</td>\n",
              "      <td>56.0</td>\n",
              "      <td>982.291</td>\n",
              "    </tr>\n",
              "    <tr>\n",
              "      <th>4</th>\n",
              "      <td>43.0</td>\n",
              "      <td>35.0</td>\n",
              "      <td>77.0</td>\n",
              "      <td>7.6</td>\n",
              "      <td>3.44</td>\n",
              "      <td>9.6</td>\n",
              "      <td>84.6</td>\n",
              "      <td>6441.0</td>\n",
              "      <td>24.4</td>\n",
              "      <td>43.7</td>\n",
              "      <td>14.3</td>\n",
              "      <td>43.0</td>\n",
              "      <td>38.0</td>\n",
              "      <td>206.0</td>\n",
              "      <td>55.0</td>\n",
              "      <td>1071.289</td>\n",
              "    </tr>\n",
              "  </tbody>\n",
              "</table>\n",
              "</div>"
            ],
            "text/plain": [
              "   PREC  JANT  JULT  OVR65  POPN  ...    HC   NOX    SO2  HUMID    target\n",
              "0  36.0  27.0  71.0    8.1  3.34  ...  21.0  15.0   59.0   59.0   921.870\n",
              "1  35.0  23.0  72.0   11.1  3.14  ...   8.0  10.0   39.0   57.0   997.875\n",
              "2  44.0  29.0  74.0   10.4  3.21  ...   6.0   6.0   33.0   54.0   962.354\n",
              "3  47.0  45.0  79.0    6.5  3.41  ...  18.0   8.0   24.0   56.0   982.291\n",
              "4  43.0  35.0  77.0    7.6  3.44  ...  43.0  38.0  206.0   55.0  1071.289\n",
              "\n",
              "[5 rows x 16 columns]"
            ]
          },
          "metadata": {
            "tags": []
          },
          "execution_count": 2
        }
      ]
    },
    {
      "cell_type": "markdown",
      "metadata": {
        "id": "Noh9SZzpHrdx"
      },
      "source": [
        "Plot"
      ]
    },
    {
      "cell_type": "code",
      "metadata": {
        "colab": {
          "base_uri": "https://localhost:8080/",
          "height": 252
        },
        "id": "4UW0lS4CHTBX",
        "outputId": "d61769e7-e222-4445-c1fc-aa26866d2d55"
      },
      "source": [
        "X = df['NOX']\n",
        "y = df['HC']\n",
        "\n",
        "plt.scatter(X, y,  color='red')\n",
        "\n",
        "plt.xticks(())\n",
        "plt.yticks(())\n",
        "\n",
        "plt.show()"
      ],
      "execution_count": null,
      "outputs": [
        {
          "output_type": "display_data",
          "data": {
            "image/png": "[encoded data removed]",
            "text/plain": [
              "<Figure size 432x288 with 1 Axes>"
            ]
          },
          "metadata": {
            "tags": []
          }
        }
      ]
    },
    {
      "cell_type": "markdown",
      "metadata": {
        "id": "3Ee5-aNuHwVS"
      },
      "source": [
        "Fitting Model & Results "
      ]
    },
    {
      "cell_type": "code",
      "metadata": {
        "colab": {
          "base_uri": "https://localhost:8080/"
        },
        "id": "EB1EagurWB2B",
        "outputId": "1e4e5c67-2bbf-4d94-f262-9264c0006f31"
      },
      "source": [
        "import statsmodels.api as sm\n",
        "\n",
        "X_const = sm.add_constant(X)\n",
        "model = sm.OLS(y,X_const)\n",
        "results = model.fit()\n",
        "print(results.summary())"
      ],
      "execution_count": null,
      "outputs": [
        {
          "output_type": "stream",
          "text": [
            "                            OLS Regression Results                            \n",
            "==============================================================================\n",
            "Dep. Variable:                     HC   R-squared:                       0.968\n",
            "Model:                            OLS   Adj. R-squared:                  0.967\n",
            "Method:                 Least Squares   F-statistic:                     1751.\n",
            "Date:                Wed, 25 Aug 2021   Prob (F-statistic):           4.99e-45\n",
            "Time:                        21:08:38   Log-Likelihood:                -252.72\n",
            "No. Observations:                  60   AIC:                             509.4\n",
            "Df Residuals:                      58   BIC:                             513.6\n",
            "Df Model:                           1                                         \n",
            "Covariance Type:            nonrobust                                         \n",
            "==============================================================================\n",
            "                 coef    std err          t      P>|t|      [0.025      0.975]\n",
            "------------------------------------------------------------------------------\n",
            "const         -6.3866      2.391     -2.671      0.010     -11.172      -1.601\n",
            "NOX            1.9531      0.047     41.847      0.000       1.860       2.046\n",
            "==============================================================================\n",
            "Omnibus:                       18.765   Durbin-Watson:                   1.783\n",
            "Prob(Omnibus):                  0.000   Jarque-Bera (JB):               41.051\n",
            "Skew:                          -0.894   Prob(JB):                     1.22e-09\n",
            "Kurtosis:                       6.636   Cond. No.                         57.1\n",
            "==============================================================================\n",
            "\n",
            "Warnings:\n",
            "[1] Standard Errors assume that the covariance matrix of the errors is correctly specified.\n"
          ],
          "name": "stdout"
        }
      ]
    },
    {
      "cell_type": "markdown",
      "metadata": {
        "id": "tHFd8iTcO1BH"
      },
      "source": [
        "Plot of Fitted Model"
      ]
    },
    {
      "cell_type": "code",
      "metadata": {
        "colab": {
          "base_uri": "https://localhost:8080/",
          "height": 252
        },
        "id": "ICxuCcK-FlZ3",
        "outputId": "f127a594-90f1-46fe-9cda-1d0c9b4325a1"
      },
      "source": [
        "plt.scatter(X, y,  color='red')\n",
        "plt.plot(X, results.fittedvalues, color='blue', linewidth=3)\n",
        "\n",
        "plt.xticks(())\n",
        "plt.yticks(())\n",
        "\n",
        "plt.show()\n"
      ],
      "execution_count": null,
      "outputs": [
        {
          "output_type": "display_data",
          "data": {
            "image/png": "[encoded data removed]",
            "text/plain": [
              "<Figure size 432x288 with 1 Axes>"
            ]
          },
          "metadata": {
            "tags": []
          }
        }
      ]
    },
    {
      "cell_type": "markdown",
      "metadata": {
        "id": "NH-Fo0PxRe_U"
      },
      "source": [
        "Utilizing another package"
      ]
    },
    {
      "cell_type": "code",
      "metadata": {
        "id": "zPTi3K_CPsWW"
      },
      "source": [
        "from sklearn import datasets, linear_model\n",
        "from sklearn.metrics import mean_squared_error, r2_score"
      ],
      "execution_count": null,
      "outputs": []
    },
    {
      "cell_type": "markdown",
      "metadata": {
        "id": "i3ipel-lSUAh"
      },
      "source": [
        "Test & Train Splitting"
      ]
    },
    {
      "cell_type": "code",
      "metadata": {
        "id": "KtRVO3iQPyie"
      },
      "source": [
        "# Split the data into training/testing sets\n",
        "X_train = X_const[:-30]\n",
        "X_test = X_const[-30:]\n",
        "\n",
        "# Split the targets into training/testing sets\n",
        "y_train = y[:-30]\n",
        "y_test = y[-30:]"
      ],
      "execution_count": null,
      "outputs": []
    },
    {
      "cell_type": "markdown",
      "metadata": {
        "id": "k50Ci6T8SXRt"
      },
      "source": [
        "Fitting Model"
      ]
    },
    {
      "cell_type": "code",
      "metadata": {
        "id": "symSMeRmW9T6"
      },
      "source": [
        "# Create linear regression object\n",
        "regr = linear_model.LinearRegression()\n",
        "\n",
        "# Train the model using the training sets\n",
        "regr.fit(X_train, y_train)\n",
        "\n",
        "# Make predictions using the testing set\n",
        "y_pred = regr.predict(X_test)\n"
      ],
      "execution_count": null,
      "outputs": []
    },
    {
      "cell_type": "markdown",
      "metadata": {
        "id": "UjoYai_aSakx"
      },
      "source": [
        "Model Performance Calculations"
      ]
    },
    {
      "cell_type": "code",
      "metadata": {
        "colab": {
          "base_uri": "https://localhost:8080/"
        },
        "id": "MlM_NlZ1P7bO",
        "outputId": "9804a5df-58ca-48f7-e732-5fa4a40939db"
      },
      "source": [
        "# The coefficients\n",
        "print('Coefficients: \\n', regr.coef_)\n",
        "# The mean squared error\n",
        "print('Mean squared error: %.2f'\n",
        "      % mean_squared_error(y_test, y_pred))\n",
        "# The coefficient of determination: 1 is perfect prediction\n",
        "print('Coefficient of determination: %.2f'\n",
        "      % r2_score(y_test, y_pred))"
      ],
      "execution_count": null,
      "outputs": [
        {
          "output_type": "stream",
          "text": [
            "Coefficients: \n",
            " [0.         2.00318992]\n",
            "Mean squared error: 343.75\n",
            "Coefficient of determination: 0.90\n"
          ],
          "name": "stdout"
        }
      ]
    },
    {
      "cell_type": "markdown",
      "metadata": {
        "id": "0riuat6kSgv4"
      },
      "source": [
        "Plotting Results"
      ]
    },
    {
      "cell_type": "code",
      "metadata": {
        "colab": {
          "base_uri": "https://localhost:8080/",
          "height": 252
        },
        "id": "RPlwe_V_P_8n",
        "outputId": "10024fa1-781f-4e56-a94f-51f250c668e5"
      },
      "source": [
        "# Plot outputs\n",
        "plt.scatter(X_test['NOX'], y_test,  color='red')\n",
        "plt.plot(X_test['NOX'], y_pred, color='blue', linewidth=3)\n",
        "\n",
        "plt.xticks(())\n",
        "plt.yticks(())\n",
        "\n",
        "plt.show()"
      ],
      "execution_count": null,
      "outputs": [
        {
          "output_type": "display_data",
          "data": {
            "image/png": "[encoded data removed]",
            "text/plain": [
              "<Figure size 432x288 with 1 Axes>"
            ]
          },
          "metadata": {
            "tags": []
          }
        }
      ]
    }
  ]
}