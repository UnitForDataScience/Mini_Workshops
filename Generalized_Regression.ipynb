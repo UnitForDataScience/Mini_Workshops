{
  "nbformat": 4,
  "nbformat_minor": 0,
  "metadata": {
    "colab": {
      "name": "Generalized_Regression.ipynb",
      "provenance": [],
      "authorship_tag": "ABX9TyOJEM0inDwEnOea2nAzS0CG",
      "include_colab_link": true
    },
    "kernelspec": {
      "name": "python3",
      "display_name": "Python 3"
    },
    "language_info": {
      "name": "python"
    }
  },
  "cells": [
    {
      "cell_type": "markdown",
      "metadata": {
        "id": "view-in-github",
        "colab_type": "text"
      },
      "source": [
        "<a href=\"https://colab.research.google.com/github/UnitForDataScience/Mini_Workshops/blob/main/Generalized_Regression.ipynb\" target=\"_parent\"><img src=\"https://colab.research.google.com/assets/colab-badge.svg\" alt=\"Open In Colab\"/></a>"
      ]
    },
    {
      "cell_type": "code",
      "metadata": {
        "id": "_fextw9bJ2MW"
      },
      "source": [
        "import matplotlib.pyplot as plt\n",
        "import numpy as np\n",
        "import pandas as pd"
      ],
      "execution_count": null,
      "outputs": []
    },
    {
      "cell_type": "code",
      "metadata": {
        "colab": {
          "base_uri": "https://localhost:8080/",
          "height": 206
        },
        "id": "pBiLSyDO1BVO",
        "outputId": "b597e24f-cb38-4be3-dfd4-2cdcaec323ff"
      },
      "source": [
        "from sklearn.datasets import fetch_openml\n",
        "\n",
        "# Get data\n",
        "dat = fetch_openml(name='electricity', as_frame=True, version=1)\n",
        "# Convert to dataframe\n",
        "df = pd.DataFrame(dat['data'], columns=dat['feature_names'])\n",
        "df['target'] = dat['target']\n",
        "# Print first few rows\n",
        "df.head()"
      ],
      "execution_count": null,
      "outputs": [
        {
          "output_type": "execute_result",
          "data": {
            "text/html": [
              "<div>\n",
              "<style scoped>\n",
              "    .dataframe tbody tr th:only-of-type {\n",
              "        vertical-align: middle;\n",
              "    }\n",
              "\n",
              "    .dataframe tbody tr th {\n",
              "        vertical-align: top;\n",
              "    }\n",
              "\n",
              "    .dataframe thead th {\n",
              "        text-align: right;\n",
              "    }\n",
              "</style>\n",
              "<table border=\"1\" class=\"dataframe\">\n",
              "  <thead>\n",
              "    <tr style=\"text-align: right;\">\n",
              "      <th></th>\n",
              "      <th>date</th>\n",
              "      <th>day</th>\n",
              "      <th>period</th>\n",
              "      <th>nswprice</th>\n",
              "      <th>nswdemand</th>\n",
              "      <th>vicprice</th>\n",
              "      <th>vicdemand</th>\n",
              "      <th>transfer</th>\n",
              "      <th>target</th>\n",
              "    </tr>\n",
              "  </thead>\n",
              "  <tbody>\n",
              "    <tr>\n",
              "      <th>0</th>\n",
              "      <td>0.0</td>\n",
              "      <td>2</td>\n",
              "      <td>0.000000</td>\n",
              "      <td>0.056443</td>\n",
              "      <td>0.439155</td>\n",
              "      <td>0.003467</td>\n",
              "      <td>0.422915</td>\n",
              "      <td>0.414912</td>\n",
              "      <td>UP</td>\n",
              "    </tr>\n",
              "    <tr>\n",
              "      <th>1</th>\n",
              "      <td>0.0</td>\n",
              "      <td>2</td>\n",
              "      <td>0.021277</td>\n",
              "      <td>0.051699</td>\n",
              "      <td>0.415055</td>\n",
              "      <td>0.003467</td>\n",
              "      <td>0.422915</td>\n",
              "      <td>0.414912</td>\n",
              "      <td>UP</td>\n",
              "    </tr>\n",
              "    <tr>\n",
              "      <th>2</th>\n",
              "      <td>0.0</td>\n",
              "      <td>2</td>\n",
              "      <td>0.042553</td>\n",
              "      <td>0.051489</td>\n",
              "      <td>0.385004</td>\n",
              "      <td>0.003467</td>\n",
              "      <td>0.422915</td>\n",
              "      <td>0.414912</td>\n",
              "      <td>UP</td>\n",
              "    </tr>\n",
              "    <tr>\n",
              "      <th>3</th>\n",
              "      <td>0.0</td>\n",
              "      <td>2</td>\n",
              "      <td>0.063830</td>\n",
              "      <td>0.045485</td>\n",
              "      <td>0.314639</td>\n",
              "      <td>0.003467</td>\n",
              "      <td>0.422915</td>\n",
              "      <td>0.414912</td>\n",
              "      <td>UP</td>\n",
              "    </tr>\n",
              "    <tr>\n",
              "      <th>4</th>\n",
              "      <td>0.0</td>\n",
              "      <td>2</td>\n",
              "      <td>0.085106</td>\n",
              "      <td>0.042482</td>\n",
              "      <td>0.251116</td>\n",
              "      <td>0.003467</td>\n",
              "      <td>0.422915</td>\n",
              "      <td>0.414912</td>\n",
              "      <td>DOWN</td>\n",
              "    </tr>\n",
              "  </tbody>\n",
              "</table>\n",
              "</div>"
            ],
            "text/plain": [
              "   date day    period  nswprice  ...  vicprice  vicdemand  transfer  target\n",
              "0   0.0   2  0.000000  0.056443  ...  0.003467   0.422915  0.414912      UP\n",
              "1   0.0   2  0.021277  0.051699  ...  0.003467   0.422915  0.414912      UP\n",
              "2   0.0   2  0.042553  0.051489  ...  0.003467   0.422915  0.414912      UP\n",
              "3   0.0   2  0.063830  0.045485  ...  0.003467   0.422915  0.414912      UP\n",
              "4   0.0   2  0.085106  0.042482  ...  0.003467   0.422915  0.414912    DOWN\n",
              "\n",
              "[5 rows x 9 columns]"
            ]
          },
          "metadata": {},
          "execution_count": 2
        }
      ]
    },
    {
      "cell_type": "code",
      "metadata": {
        "colab": {
          "base_uri": "https://localhost:8080/"
        },
        "id": "BCkO2uT315AU",
        "outputId": "36810157-1f2c-44bb-8239-905f33d8bb1c"
      },
      "source": [
        "# Organize data:\n",
        "label_names = dat['target_names']\n",
        "labels = dat['target']\n",
        "feature_names = dat['feature_names']\n",
        "features = dat['data']\n",
        "\n",
        "# Print data:\n",
        "print(label_names)\n",
        "print('Class label = ', labels[0])\n",
        "print(feature_names)\n",
        "#print(features[0])"
      ],
      "execution_count": null,
      "outputs": [
        {
          "output_type": "stream",
          "name": "stdout",
          "text": [
            "['class']\n",
            "Class label =  UP\n",
            "['date', 'day', 'period', 'nswprice', 'nswdemand', 'vicprice', 'vicdemand', 'transfer']\n"
          ]
        }
      ]
    },
    {
      "cell_type": "code",
      "metadata": {
        "id": "y1O_wJCD2EWB"
      },
      "source": [
        "from sklearn.linear_model import LogisticRegression\n",
        "clf = LogisticRegression(random_state=0, max_iter = 200).fit(features, labels)"
      ],
      "execution_count": null,
      "outputs": []
    },
    {
      "cell_type": "code",
      "metadata": {
        "colab": {
          "base_uri": "https://localhost:8080/"
        },
        "id": "xhz5N5Eg3Q48",
        "outputId": "0c89b32f-f19c-47e4-98b8-9a0cf11c6a04"
      },
      "source": [
        "clf.score(features, labels)"
      ],
      "execution_count": null,
      "outputs": [
        {
          "output_type": "execute_result",
          "data": {
            "text/plain": [
              "0.7528910663841808"
            ]
          },
          "metadata": {},
          "execution_count": 6
        }
      ]
    }
  ]
}