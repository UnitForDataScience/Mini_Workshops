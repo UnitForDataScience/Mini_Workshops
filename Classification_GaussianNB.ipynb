{
  "nbformat": 4,
  "nbformat_minor": 0,
  "metadata": {
    "colab": {
      "name": "Classification-GaussianNB.ipynb",
      "provenance": [],
      "authorship_tag": "ABX9TyMIZK5CoGA75bB7zpozKsqG",
      "include_colab_link": true
    },
    "kernelspec": {
      "name": "python3",
      "display_name": "Python 3"
    },
    "language_info": {
      "name": "python"
    }
  },
  "cells": [
    {
      "cell_type": "markdown",
      "metadata": {
        "id": "view-in-github",
        "colab_type": "text"
      },
      "source": [
        "<a href=\"https://colab.research.google.com/github/UnitForDataScience/Mini_Workshops/blob/main/Classification_GaussianNB.ipynb\" target=\"_parent\"><img src=\"https://colab.research.google.com/assets/colab-badge.svg\" alt=\"Open In Colab\"/></a>"
      ]
    },
    {
      "cell_type": "code",
      "metadata": {
        "id": "IUeWQMRo4xCK"
      },
      "source": [
        "import matplotlib.pyplot as plt\n",
        "import numpy as np\n",
        "import pandas as pd"
      ],
      "execution_count": 5,
      "outputs": []
    },
    {
      "cell_type": "code",
      "metadata": {
        "colab": {
          "base_uri": "https://localhost:8080/",
          "height": 258
        },
        "id": "6j2owdXbRjFk",
        "outputId": "ff388d27-71a9-403d-cfe8-537a301f1233"
      },
      "source": [
        "from sklearn.datasets import fetch_openml\n",
        "\n",
        "dat = fetch_openml(name='credit-g', as_frame=True, version=1)\n",
        "df = pd.DataFrame(dat['data'], columns=dat['feature_names'])\n",
        "df['target'] = dat['target']\n",
        "df.head()\n",
        "#dat"
      ],
      "execution_count": 6,
      "outputs": [
        {
          "output_type": "execute_result",
          "data": {
            "text/html": [
              "<div>\n",
              "<style scoped>\n",
              "    .dataframe tbody tr th:only-of-type {\n",
              "        vertical-align: middle;\n",
              "    }\n",
              "\n",
              "    .dataframe tbody tr th {\n",
              "        vertical-align: top;\n",
              "    }\n",
              "\n",
              "    .dataframe thead th {\n",
              "        text-align: right;\n",
              "    }\n",
              "</style>\n",
              "<table border=\"1\" class=\"dataframe\">\n",
              "  <thead>\n",
              "    <tr style=\"text-align: right;\">\n",
              "      <th></th>\n",
              "      <th>checking_status</th>\n",
              "      <th>duration</th>\n",
              "      <th>credit_history</th>\n",
              "      <th>purpose</th>\n",
              "      <th>credit_amount</th>\n",
              "      <th>savings_status</th>\n",
              "      <th>employment</th>\n",
              "      <th>installment_commitment</th>\n",
              "      <th>personal_status</th>\n",
              "      <th>other_parties</th>\n",
              "      <th>residence_since</th>\n",
              "      <th>property_magnitude</th>\n",
              "      <th>age</th>\n",
              "      <th>other_payment_plans</th>\n",
              "      <th>housing</th>\n",
              "      <th>existing_credits</th>\n",
              "      <th>job</th>\n",
              "      <th>num_dependents</th>\n",
              "      <th>own_telephone</th>\n",
              "      <th>foreign_worker</th>\n",
              "      <th>target</th>\n",
              "    </tr>\n",
              "  </thead>\n",
              "  <tbody>\n",
              "    <tr>\n",
              "      <th>0</th>\n",
              "      <td>&lt;0</td>\n",
              "      <td>6.0</td>\n",
              "      <td>critical/other existing credit</td>\n",
              "      <td>radio/tv</td>\n",
              "      <td>1169.0</td>\n",
              "      <td>no known savings</td>\n",
              "      <td>&gt;=7</td>\n",
              "      <td>4.0</td>\n",
              "      <td>male single</td>\n",
              "      <td>none</td>\n",
              "      <td>4.0</td>\n",
              "      <td>real estate</td>\n",
              "      <td>67.0</td>\n",
              "      <td>none</td>\n",
              "      <td>own</td>\n",
              "      <td>2.0</td>\n",
              "      <td>skilled</td>\n",
              "      <td>1.0</td>\n",
              "      <td>yes</td>\n",
              "      <td>yes</td>\n",
              "      <td>good</td>\n",
              "    </tr>\n",
              "    <tr>\n",
              "      <th>1</th>\n",
              "      <td>0&lt;=X&lt;200</td>\n",
              "      <td>48.0</td>\n",
              "      <td>existing paid</td>\n",
              "      <td>radio/tv</td>\n",
              "      <td>5951.0</td>\n",
              "      <td>&lt;100</td>\n",
              "      <td>1&lt;=X&lt;4</td>\n",
              "      <td>2.0</td>\n",
              "      <td>female div/dep/mar</td>\n",
              "      <td>none</td>\n",
              "      <td>2.0</td>\n",
              "      <td>real estate</td>\n",
              "      <td>22.0</td>\n",
              "      <td>none</td>\n",
              "      <td>own</td>\n",
              "      <td>1.0</td>\n",
              "      <td>skilled</td>\n",
              "      <td>1.0</td>\n",
              "      <td>none</td>\n",
              "      <td>yes</td>\n",
              "      <td>bad</td>\n",
              "    </tr>\n",
              "    <tr>\n",
              "      <th>2</th>\n",
              "      <td>no checking</td>\n",
              "      <td>12.0</td>\n",
              "      <td>critical/other existing credit</td>\n",
              "      <td>education</td>\n",
              "      <td>2096.0</td>\n",
              "      <td>&lt;100</td>\n",
              "      <td>4&lt;=X&lt;7</td>\n",
              "      <td>2.0</td>\n",
              "      <td>male single</td>\n",
              "      <td>none</td>\n",
              "      <td>3.0</td>\n",
              "      <td>real estate</td>\n",
              "      <td>49.0</td>\n",
              "      <td>none</td>\n",
              "      <td>own</td>\n",
              "      <td>1.0</td>\n",
              "      <td>unskilled resident</td>\n",
              "      <td>2.0</td>\n",
              "      <td>none</td>\n",
              "      <td>yes</td>\n",
              "      <td>good</td>\n",
              "    </tr>\n",
              "    <tr>\n",
              "      <th>3</th>\n",
              "      <td>&lt;0</td>\n",
              "      <td>42.0</td>\n",
              "      <td>existing paid</td>\n",
              "      <td>furniture/equipment</td>\n",
              "      <td>7882.0</td>\n",
              "      <td>&lt;100</td>\n",
              "      <td>4&lt;=X&lt;7</td>\n",
              "      <td>2.0</td>\n",
              "      <td>male single</td>\n",
              "      <td>guarantor</td>\n",
              "      <td>4.0</td>\n",
              "      <td>life insurance</td>\n",
              "      <td>45.0</td>\n",
              "      <td>none</td>\n",
              "      <td>for free</td>\n",
              "      <td>1.0</td>\n",
              "      <td>skilled</td>\n",
              "      <td>2.0</td>\n",
              "      <td>none</td>\n",
              "      <td>yes</td>\n",
              "      <td>good</td>\n",
              "    </tr>\n",
              "    <tr>\n",
              "      <th>4</th>\n",
              "      <td>&lt;0</td>\n",
              "      <td>24.0</td>\n",
              "      <td>delayed previously</td>\n",
              "      <td>new car</td>\n",
              "      <td>4870.0</td>\n",
              "      <td>&lt;100</td>\n",
              "      <td>1&lt;=X&lt;4</td>\n",
              "      <td>3.0</td>\n",
              "      <td>male single</td>\n",
              "      <td>none</td>\n",
              "      <td>4.0</td>\n",
              "      <td>no known property</td>\n",
              "      <td>53.0</td>\n",
              "      <td>none</td>\n",
              "      <td>for free</td>\n",
              "      <td>2.0</td>\n",
              "      <td>skilled</td>\n",
              "      <td>2.0</td>\n",
              "      <td>none</td>\n",
              "      <td>yes</td>\n",
              "      <td>bad</td>\n",
              "    </tr>\n",
              "  </tbody>\n",
              "</table>\n",
              "</div>"
            ],
            "text/plain": [
              "  checking_status  duration  ... foreign_worker target\n",
              "0              <0       6.0  ...            yes   good\n",
              "1        0<=X<200      48.0  ...            yes    bad\n",
              "2     no checking      12.0  ...            yes   good\n",
              "3              <0      42.0  ...            yes   good\n",
              "4              <0      24.0  ...            yes    bad\n",
              "\n",
              "[5 rows x 21 columns]"
            ]
          },
          "metadata": {},
          "execution_count": 6
        }
      ]
    },
    {
      "cell_type": "code",
      "metadata": {
        "colab": {
          "base_uri": "https://localhost:8080/"
        },
        "id": "WopFQR9ERno-",
        "outputId": "16ee0968-7c6f-4a99-ad56-c52c12377a06"
      },
      "source": [
        "# Import dataset and classes needed in this example:\n",
        "from sklearn.datasets import load_iris\n",
        "from sklearn.model_selection import train_test_split\n",
        "\n",
        "# Import Gaussian Naive Bayes classifier:\n",
        "from sklearn.naive_bayes import GaussianNB\n",
        "from sklearn.metrics import accuracy_score\n",
        "\n",
        "# Load dataset: \n",
        "data = dat #load_iris()\n",
        "\n",
        "# Organize data:\n",
        "label_names = data['target_names']\n",
        "labels = data['target']\n",
        "feature_names = data['feature_names']\n",
        "features = data['data']\n",
        "\n",
        "# Print data:\n",
        "print(label_names)\n",
        "print('Class label = ', labels[0])\n",
        "print(feature_names)\n",
        "#print(features[0])"
      ],
      "execution_count": 7,
      "outputs": [
        {
          "output_type": "stream",
          "name": "stdout",
          "text": [
            "['class']\n",
            "Class label =  good\n",
            "['checking_status', 'duration', 'credit_history', 'purpose', 'credit_amount', 'savings_status', 'employment', 'installment_commitment', 'personal_status', 'other_parties', 'residence_since', 'property_magnitude', 'age', 'other_payment_plans', 'housing', 'existing_credits', 'job', 'num_dependents', 'own_telephone', 'foreign_worker']\n"
          ]
        }
      ]
    },
    {
      "cell_type": "code",
      "metadata": {
        "id": "igUfmjOibaSf"
      },
      "source": [
        "from sklearn.preprocessing import OneHotEncoder\n",
        "enc = OneHotEncoder(handle_unknown='ignore')\n",
        "enc.fit(features)\n",
        "feat = enc.transform(features).toarray()\n",
        "#lab = enc.fit(labels)\n",
        "#features"
      ],
      "execution_count": 8,
      "outputs": []
    },
    {
      "cell_type": "code",
      "metadata": {
        "colab": {
          "base_uri": "https://localhost:8080/"
        },
        "id": "XPNAP9hdbhPT",
        "outputId": "b5693265-b96f-4058-9a35-e61d5da3948b"
      },
      "source": [
        "# Split dataset into random train and test subsets:\n",
        "train, test, train_labels, test_labels = train_test_split(feat, labels, test_size=0.33, random_state=42)\n",
        "\n",
        "# Initialize classifier:\n",
        "gnb = GaussianNB()\n",
        "\n",
        "# Train the classifier:\n",
        "model = gnb.fit(train, train_labels)\n",
        "# Make predictions with the classifier:\n",
        "predictive_labels = gnb.predict(test)\n",
        "#print(predictive_labels)\n",
        "\n",
        "# Evaluate label (subsets) accuracy:\n",
        "print(accuracy_score(test_labels, predictive_labels))"
      ],
      "execution_count": 9,
      "outputs": [
        {
          "output_type": "stream",
          "name": "stdout",
          "text": [
            "0.37272727272727274\n"
          ]
        }
      ]
    },
    {
      "cell_type": "code",
      "metadata": {
        "colab": {
          "base_uri": "https://localhost:8080/"
        },
        "id": "U1hPmsT8-_hm",
        "outputId": "ffe85c4f-3cbf-4668-f925-299d43341bda"
      },
      "source": [
        "from sklearn.datasets import load_iris\n",
        "from sklearn.model_selection import train_test_split\n",
        "from sklearn.naive_bayes import GaussianNB\n",
        "# Load dataset\n",
        "X, y = load_iris(return_X_y=True)\n",
        "# Test/train split\n",
        "X_train, X_test, y_train, y_test = train_test_split(X, y, test_size=0.5, random_state=0)\n",
        "# Initializing classifier\n",
        "gnb = GaussianNB()\n",
        "# Model fitting & prediction\n",
        "y_pred = gnb.fit(X_train, y_train).predict(X_test)\n",
        "# Output\n",
        "print(\"Number of mislabeled points out of a total %d points : %d\"\n",
        "      % (X_test.shape[0], (y_test != y_pred).sum()))"
      ],
      "execution_count": 10,
      "outputs": [
        {
          "output_type": "stream",
          "name": "stdout",
          "text": [
            "Number of mislabeled points out of a total 75 points : 4\n"
          ]
        }
      ]
    },
    {
      "cell_type": "code",
      "metadata": {
        "colab": {
          "base_uri": "https://localhost:8080/"
        },
        "id": "7Q3S8pbBADj_",
        "outputId": "b2d72e46-028b-4fc5-eb2f-dedeaf9f2ea5"
      },
      "source": [
        "71/75"
      ],
      "execution_count": 11,
      "outputs": [
        {
          "output_type": "execute_result",
          "data": {
            "text/plain": [
              "0.9466666666666667"
            ]
          },
          "metadata": {},
          "execution_count": 11
        }
      ]
    },
    {
      "cell_type": "code",
      "metadata": {
        "colab": {
          "base_uri": "https://localhost:8080/"
        },
        "id": "Yq9bEpQ4_Go1",
        "outputId": "84814565-343a-4bba-c87b-c0e8626ccc67"
      },
      "source": [
        "X_train"
      ],
      "execution_count": 12,
      "outputs": [
        {
          "output_type": "execute_result",
          "data": {
            "text/plain": [
              "array([[4.6, 3.1, 1.5, 0.2],\n",
              "       [5.9, 3. , 5.1, 1.8],\n",
              "       [5.1, 2.5, 3. , 1.1],\n",
              "       [4.6, 3.4, 1.4, 0.3],\n",
              "       [6.2, 2.2, 4.5, 1.5],\n",
              "       [7.2, 3.6, 6.1, 2.5],\n",
              "       [5.7, 2.9, 4.2, 1.3],\n",
              "       [4.8, 3. , 1.4, 0.1],\n",
              "       [7.1, 3. , 5.9, 2.1],\n",
              "       [6.9, 3.2, 5.7, 2.3],\n",
              "       [6.5, 3. , 5.8, 2.2],\n",
              "       [6.4, 2.8, 5.6, 2.1],\n",
              "       [5.1, 3.8, 1.6, 0.2],\n",
              "       [4.8, 3.4, 1.6, 0.2],\n",
              "       [6.5, 3.2, 5.1, 2. ],\n",
              "       [6.7, 3.3, 5.7, 2.1],\n",
              "       [4.5, 2.3, 1.3, 0.3],\n",
              "       [6.2, 3.4, 5.4, 2.3],\n",
              "       [4.9, 3. , 1.4, 0.2],\n",
              "       [5.7, 2.5, 5. , 2. ],\n",
              "       [6.9, 3.1, 5.4, 2.1],\n",
              "       [4.4, 3.2, 1.3, 0.2],\n",
              "       [5. , 3.6, 1.4, 0.2],\n",
              "       [7.2, 3. , 5.8, 1.6],\n",
              "       [5.1, 3.5, 1.4, 0.3],\n",
              "       [4.4, 3. , 1.3, 0.2],\n",
              "       [5.4, 3.9, 1.7, 0.4],\n",
              "       [5.5, 2.3, 4. , 1.3],\n",
              "       [6.8, 3.2, 5.9, 2.3],\n",
              "       [7.6, 3. , 6.6, 2.1],\n",
              "       [5.1, 3.5, 1.4, 0.2],\n",
              "       [4.9, 3.1, 1.5, 0.2],\n",
              "       [5.2, 3.4, 1.4, 0.2],\n",
              "       [5.7, 2.8, 4.5, 1.3],\n",
              "       [6.6, 3. , 4.4, 1.4],\n",
              "       [5. , 3.2, 1.2, 0.2],\n",
              "       [5.1, 3.3, 1.7, 0.5],\n",
              "       [6.4, 2.9, 4.3, 1.3],\n",
              "       [5.4, 3.4, 1.5, 0.4],\n",
              "       [7.7, 2.6, 6.9, 2.3],\n",
              "       [4.9, 2.4, 3.3, 1. ],\n",
              "       [7.9, 3.8, 6.4, 2. ],\n",
              "       [6.7, 3.1, 4.4, 1.4],\n",
              "       [5.2, 4.1, 1.5, 0.1],\n",
              "       [6. , 3. , 4.8, 1.8],\n",
              "       [5.8, 4. , 1.2, 0.2],\n",
              "       [7.7, 2.8, 6.7, 2. ],\n",
              "       [5.1, 3.8, 1.5, 0.3],\n",
              "       [4.7, 3.2, 1.6, 0.2],\n",
              "       [7.4, 2.8, 6.1, 1.9],\n",
              "       [5. , 3.3, 1.4, 0.2],\n",
              "       [6.3, 3.4, 5.6, 2.4],\n",
              "       [5.7, 2.8, 4.1, 1.3],\n",
              "       [5.8, 2.7, 3.9, 1.2],\n",
              "       [5.7, 2.6, 3.5, 1. ],\n",
              "       [6.4, 3.2, 5.3, 2.3],\n",
              "       [6.7, 3. , 5.2, 2.3],\n",
              "       [6.3, 2.5, 4.9, 1.5],\n",
              "       [6.7, 3. , 5. , 1.7],\n",
              "       [5. , 3. , 1.6, 0.2],\n",
              "       [5.5, 2.4, 3.7, 1. ],\n",
              "       [6.7, 3.1, 5.6, 2.4],\n",
              "       [5.8, 2.7, 5.1, 1.9],\n",
              "       [5.1, 3.4, 1.5, 0.2],\n",
              "       [6.6, 2.9, 4.6, 1.3],\n",
              "       [5.6, 3. , 4.1, 1.3],\n",
              "       [5.9, 3.2, 4.8, 1.8],\n",
              "       [6.3, 2.3, 4.4, 1.3],\n",
              "       [5.5, 3.5, 1.3, 0.2],\n",
              "       [5.1, 3.7, 1.5, 0.4],\n",
              "       [4.9, 3.1, 1.5, 0.1],\n",
              "       [6.3, 2.9, 5.6, 1.8],\n",
              "       [5.8, 2.7, 4.1, 1. ],\n",
              "       [7.7, 3.8, 6.7, 2.2],\n",
              "       [4.6, 3.2, 1.4, 0.2]])"
            ]
          },
          "metadata": {},
          "execution_count": 12
        }
      ]
    }
  ]
}