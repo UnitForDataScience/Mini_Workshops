{
  "nbformat": 4,
  "nbformat_minor": 0,
  "metadata": {
    "colab": {
      "name": "Clustering - BIRCH.ipynb",
      "provenance": [],
      "authorship_tag": "ABX9TyPbN8/QC30zaCLkHNXeCZDF",
      "include_colab_link": true
    },
    "kernelspec": {
      "name": "python3",
      "display_name": "Python 3"
    },
    "language_info": {
      "name": "python"
    }
  },
  "cells": [
    {
      "cell_type": "markdown",
      "metadata": {
        "id": "view-in-github",
        "colab_type": "text"
      },
      "source": [
        "<a href=\"https://colab.research.google.com/github/UnitForDataScience/Mini_Workshops/blob/main/Clustering_BIRCH.ipynb\" target=\"_parent\"><img src=\"https://colab.research.google.com/assets/colab-badge.svg\" alt=\"Open In Colab\"/></a>"
      ]
    },
    {
      "cell_type": "code",
      "metadata": {
        "id": "uq1tvGAF_m4C"
      },
      "source": [
        "import matplotlib.pyplot as plt\n",
        "import numpy as np\n",
        "import pandas as pd\n",
        "import time"
      ],
      "execution_count": 1,
      "outputs": []
    },
    {
      "cell_type": "code",
      "metadata": {
        "id": "ujFcnRpH8ZDj",
        "colab": {
          "base_uri": "https://localhost:8080/"
        },
        "outputId": "ba2772ae-f888-4c7a-ff05-c8417a676747"
      },
      "source": [
        "# Data load\n",
        "\n",
        "url = 'https://raw.githubusercontent.com/djlittle/Homelessness_Clustering_Comparisons/master/Data/HMIS%20Data%20Extract.csv'\n",
        "\n",
        "dat = pd.read_csv(url) # Importing data\n",
        "\n",
        "print(dat.head())"
      ],
      "execution_count": 2,
      "outputs": [
        {
          "output_type": "stream",
          "name": "stdout",
          "text": [
            "   personalid  ...  projecttype_14_count\n",
            "0         342  ...                   2.0\n",
            "1         401  ...                   1.0\n",
            "2         402  ...                   1.0\n",
            "3         424  ...                   NaN\n",
            "4         438  ...                   NaN\n",
            "\n",
            "[5 rows x 13 columns]\n"
          ]
        }
      ]
    },
    {
      "cell_type": "code",
      "metadata": {
        "colab": {
          "base_uri": "https://localhost:8080/"
        },
        "id": "LJG8MmmQ_rzJ",
        "outputId": "b33a9c5f-1a48-4047-f975-512ae37a7b50"
      },
      "source": [
        "# Dataframe manipulation and nan handling\n",
        "\n",
        "df = dat.iloc[:, 1:]\n",
        "df.fillna(0, inplace=True) # Filling null values of the data frame with -1. \n",
        "\n",
        "print(df.head())"
      ],
      "execution_count": 3,
      "outputs": [
        {
          "output_type": "stream",
          "name": "stdout",
          "text": [
            "   projecttype_1_bednights  ...  projecttype_14_count\n",
            "0                     91.0  ...                   2.0\n",
            "1                      2.0  ...                   1.0\n",
            "2                      0.0  ...                   1.0\n",
            "3                      5.0  ...                   0.0\n",
            "4                    220.0  ...                   0.0\n",
            "\n",
            "[5 rows x 12 columns]\n"
          ]
        }
      ]
    },
    {
      "cell_type": "code",
      "metadata": {
        "colab": {
          "base_uri": "https://localhost:8080/"
        },
        "id": "19FvQlPY_zbZ",
        "outputId": "4aaa5a20-cb62-42b0-8b3e-b728cc68a071"
      },
      "source": [
        "# Birch \n",
        "\n",
        "from sklearn.cluster import Birch\n",
        "\n",
        "start = time.time()\n",
        "birch = Birch(n_clusters=10).fit(df) # Model fitting\n",
        "birch_labels = birch.labels_ + 1  # Label assignment\n",
        "end = time.time()\n",
        "\n",
        "processing_time = (end - start) # Computing processing time\n",
        "\n",
        "dat['birch'] = birch_labels # Attaching labels to original dataframe\n",
        "\n",
        "print('Birch model complete')\n",
        "print('Processing time: '+ str(processing_time) + ' seconds')"
      ],
      "execution_count": 6,
      "outputs": [
        {
          "output_type": "stream",
          "name": "stdout",
          "text": [
            "Birch model complete\n",
            "Processing time: 3.9394774436950684 seconds\n"
          ]
        }
      ]
    },
    {
      "cell_type": "code",
      "metadata": {
        "id": "3Ek2RrPzjfDU"
      },
      "source": [
        ""
      ],
      "execution_count": null,
      "outputs": []
    }
  ]
}