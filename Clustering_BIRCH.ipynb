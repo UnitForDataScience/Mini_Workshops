{
  "nbformat": 4,
  "nbformat_minor": 0,
  "metadata": {
    "colab": {
      "name": "Clustering - BIRCH.ipynb",
      "provenance": [],
      "authorship_tag": "ABX9TyOBMXdQPN8tdPvDuF7QEoEA",
      "include_colab_link": true
    },
    "kernelspec": {
      "name": "python3",
      "display_name": "Python 3"
    },
    "language_info": {
      "name": "python"
    }
  },
  "cells": [
    {
      "cell_type": "markdown",
      "metadata": {
        "id": "view-in-github",
        "colab_type": "text"
      },
      "source": [
        "<a href=\"https://colab.research.google.com/github/UnitForDataScience/Mini_Workshops/blob/main/Clustering_BIRCH.ipynb\" target=\"_parent\"><img src=\"https://colab.research.google.com/assets/colab-badge.svg\" alt=\"Open In Colab\"/></a>"
      ]
    },
    {
      "cell_type": "code",
      "metadata": {
        "id": "uq1tvGAF_m4C"
      },
      "source": [
        "import matplotlib.pyplot as plt\n",
        "import numpy as np\n",
        "import pandas as pd\n",
        "import time"
      ],
      "execution_count": 1,
      "outputs": []
    },
    {
      "cell_type": "code",
      "metadata": {
        "id": "ujFcnRpH8ZDj",
        "colab": {
          "base_uri": "https://localhost:8080/"
        },
        "outputId": "e0c79b04-e5ac-4f6d-a623-1575c156231b"
      },
      "source": [
        "# Data load\n",
        "\n",
        "url = 'https://raw.githubusercontent.com/djlittle/Homelessness_Clustering_Comparisons/master/Data/HMIS%20Data%20Extract.csv'\n",
        "\n",
        "dat = pd.read_csv(url) # Importing data\n",
        "\n",
        "print(dat.head())"
      ],
      "execution_count": 2,
      "outputs": [
        {
          "output_type": "stream",
          "name": "stdout",
          "text": [
            "   personalid  ...  projecttype_14_count\n",
            "0         342  ...                   2.0\n",
            "1         401  ...                   1.0\n",
            "2         402  ...                   1.0\n",
            "3         424  ...                   NaN\n",
            "4         438  ...                   NaN\n",
            "\n",
            "[5 rows x 13 columns]\n"
          ]
        }
      ]
    },
    {
      "cell_type": "code",
      "metadata": {
        "colab": {
          "base_uri": "https://localhost:8080/"
        },
        "id": "LJG8MmmQ_rzJ",
        "outputId": "221df200-0d2a-4efd-c9d3-c1581da15b5a"
      },
      "source": [
        "# Dataframe manipulation and nan handling\n",
        "\n",
        "processing_times = pd.DataFrame()  # For assessing each algorithm's processing times\n",
        "\n",
        "df = dat.iloc[:, 1:]\n",
        "df.fillna(0, inplace=True) # Filling null values of the data frame with 0. \n",
        "\n",
        "print(df.head())"
      ],
      "execution_count": 3,
      "outputs": [
        {
          "output_type": "stream",
          "name": "stdout",
          "text": [
            "   projecttype_1_bednights  ...  projecttype_14_count\n",
            "0                     91.0  ...                   2.0\n",
            "1                      2.0  ...                   1.0\n",
            "2                      0.0  ...                   1.0\n",
            "3                      5.0  ...                   0.0\n",
            "4                    220.0  ...                   0.0\n",
            "\n",
            "[5 rows x 12 columns]\n"
          ]
        }
      ]
    },
    {
      "cell_type": "code",
      "metadata": {
        "colab": {
          "base_uri": "https://localhost:8080/"
        },
        "id": "3Ek2RrPzjfDU",
        "outputId": "7152eed0-75d4-4bd2-b937-cfd9787adba1"
      },
      "source": [
        "# Kmeans \n",
        "\n",
        "from sklearn.cluster import KMeans\n",
        "\n",
        "start = time.time()\n",
        "kmeans = KMeans(n_clusters=10, verbose=True, n_jobs=-1).fit(df) # Model fitting\n",
        "kmeans_labels = kmeans.labels_ + 1  # Label assignment\n",
        "end = time.time()\n",
        "\n",
        "processing_times['kmeans'] = [(end - start)] # Computing processing time\n",
        "\n",
        "dat['kmeans'] = kmeans_labels # Attaching labels to original dataframe\n",
        "\n",
        "print('Kmeans model complete')\n",
        "print('Processing time: '+ str(processing_times['kmeans'][0]) + ' seconds')"
      ],
      "execution_count": 4,
      "outputs": [
        {
          "output_type": "stream",
          "name": "stdout",
          "text": [
            "Kmeans model complete\n",
            "Processing time: 2.348672866821289 seconds\n"
          ]
        }
      ]
    },
    {
      "cell_type": "code",
      "metadata": {
        "colab": {
          "base_uri": "https://localhost:8080/"
        },
        "id": "19FvQlPY_zbZ",
        "outputId": "672ab7e5-ce40-440d-83e9-fac1302f3743"
      },
      "source": [
        "# Birch \n",
        "\n",
        "from sklearn.cluster import Birch\n",
        "\n",
        "start = time.time()\n",
        "birch = Birch(n_clusters=10).fit(df) # Model fitting\n",
        "birch_labels = birch.labels_ + 1  # Label assignment\n",
        "end = time.time()\n",
        "\n",
        "processing_time = (end - start) # Computing processing time\n",
        "\n",
        "dat['birch'] = birch_labels # Attaching labels to original dataframe\n",
        "\n",
        "print('Birch model complete')\n",
        "print('Processing time: '+ str(processing_time) + ' seconds')"
      ],
      "execution_count": 5,
      "outputs": [
        {
          "output_type": "stream",
          "name": "stdout",
          "text": [
            "Birch model complete\n",
            "Processing time: 4.03784704208374 seconds\n"
          ]
        }
      ]
    },
    {
      "cell_type": "code",
      "metadata": {
        "colab": {
          "base_uri": "https://localhost:8080/"
        },
        "id": "QirXk-W_q3JC",
        "outputId": "bb4e959c-0173-4d5f-f70e-97fcecb1312d"
      },
      "source": [
        "# DBSCAN \n",
        "\n",
        "from sklearn.cluster import DBSCAN\n",
        "\n",
        "start = time.time()\n",
        "dbscan = DBSCAN(eps=2.5, min_samples=10, n_jobs=-1).fit(df) # Model fitting\n",
        "dbscan_labels = dbscan.labels_ + 1 # Label assignment\n",
        "end = time.time()\n",
        "\n",
        "processing_times['dbscan'] = [(end - start)] # Computing processing time\n",
        "\n",
        "dat['dbscan'] = dbscan_labels # Attaching labels to original dataframe\n",
        "\n",
        "print('DBSCAN model complete')\n",
        "print('Processing time: '+ str(processing_times['dbscan'][0]) + ' seconds')"
      ],
      "execution_count": 6,
      "outputs": [
        {
          "output_type": "stream",
          "name": "stdout",
          "text": [
            "DBSCAN model complete\n",
            "Processing time: 24.589441776275635 seconds\n"
          ]
        }
      ]
    }
  ]
}