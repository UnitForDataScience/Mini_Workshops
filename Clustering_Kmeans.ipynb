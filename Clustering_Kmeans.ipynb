{
  "nbformat": 4,
  "nbformat_minor": 0,
  "metadata": {
    "colab": {
      "name": "Clustering - Kmeans.ipynb",
      "provenance": [],
      "authorship_tag": "ABX9TyNbyi1fE4PRHwk5/M8HfVZ8",
      "include_colab_link": true
    },
    "kernelspec": {
      "name": "python3",
      "display_name": "Python 3"
    },
    "language_info": {
      "name": "python"
    }
  },
  "cells": [
    {
      "cell_type": "markdown",
      "metadata": {
        "id": "view-in-github",
        "colab_type": "text"
      },
      "source": [
        "<a href=\"https://colab.research.google.com/github/UnitForDataScience/Mini_Workshops/blob/main/Clustering_Kmeans.ipynb\" target=\"_parent\"><img src=\"https://colab.research.google.com/assets/colab-badge.svg\" alt=\"Open In Colab\"/></a>"
      ]
    },
    {
      "cell_type": "code",
      "metadata": {
        "id": "CxhSeHGN6gom"
      },
      "source": [
        "import matplotlib.pyplot as plt\n",
        "import numpy as np\n",
        "import pandas as pd\n",
        "import time"
      ],
      "execution_count": null,
      "outputs": []
    },
    {
      "cell_type": "code",
      "metadata": {
        "colab": {
          "base_uri": "https://localhost:8080/"
        },
        "id": "kapubjarb8Jo",
        "outputId": "3bc14579-7267-452c-b7b5-3dc9f841477e"
      },
      "source": [
        "# Data load\n",
        "\n",
        "url = 'https://raw.githubusercontent.com/djlittle/Homelessness_Clustering_Comparisons/master/Data/HMIS%20Data%20Extract.csv'\n",
        "\n",
        "dat = pd.read_csv(url) # Importing data\n",
        "\n",
        "print(dat.head())"
      ],
      "execution_count": null,
      "outputs": [
        {
          "output_type": "stream",
          "name": "stdout",
          "text": [
            "   personalid  ...  projecttype_14_count\n",
            "0         342  ...                   2.0\n",
            "1         401  ...                   1.0\n",
            "2         402  ...                   1.0\n",
            "3         424  ...                   NaN\n",
            "4         438  ...                   NaN\n",
            "\n",
            "[5 rows x 13 columns]\n"
          ]
        }
      ]
    },
    {
      "cell_type": "code",
      "metadata": {
        "colab": {
          "base_uri": "https://localhost:8080/"
        },
        "id": "dF_0UlDi_N_v",
        "outputId": "4b15b4b1-618b-4d9f-e5ea-c3cf7d187426"
      },
      "source": [
        "# Dataframe manipulation and nan handling\n",
        "\n",
        "df = dat.iloc[:, 1:]\n",
        "df.fillna(-1, inplace=True) # Filling null values of the data frame with -1. \n",
        "\n",
        "print(df.head())"
      ],
      "execution_count": null,
      "outputs": [
        {
          "output_type": "stream",
          "name": "stdout",
          "text": [
            "   projecttype_1_bednights  ...  projecttype_14_count\n",
            "0                     91.0  ...                   2.0\n",
            "1                      2.0  ...                   1.0\n",
            "2                     -1.0  ...                   1.0\n",
            "3                      5.0  ...                  -1.0\n",
            "4                    220.0  ...                  -1.0\n",
            "\n",
            "[5 rows x 12 columns]\n"
          ]
        }
      ]
    },
    {
      "cell_type": "code",
      "metadata": {
        "colab": {
          "base_uri": "https://localhost:8080/"
        },
        "id": "3ZBjkSSy_i1q",
        "outputId": "4ea52572-1aca-447a-fd11-59f48a861e5d"
      },
      "source": [
        "# Kmeans \n",
        "\n",
        "from sklearn.cluster import KMeans\n",
        "\n",
        "start = time.time()\n",
        "kmeans = KMeans(n_clusters=10, verbose=True, n_jobs=-1).fit(df) # Model fitting\n",
        "kmeans_labels = kmeans.labels_ + 1  # Label assignment\n",
        "end = time.time()\n",
        "\n",
        "processing_time = (end - start) # Computing processing time\n",
        "\n",
        "dat['kmeans'] = kmeans_labels # Attaching labels to original dataframe\n",
        "\n",
        "print('Kmeans model complete')\n",
        "print('Processing time: '+ str(processing_time) + ' seconds')"
      ],
      "execution_count": null,
      "outputs": [
        {
          "output_type": "stream",
          "name": "stdout",
          "text": [
            "Kmeans model complete\n",
            "Processing time: 2.42657208442688 seconds\n"
          ]
        }
      ]
    },
    {
      "cell_type": "code",
      "metadata": {
        "colab": {
          "base_uri": "https://localhost:8080/",
          "height": 771
        },
        "id": "9595LEkiaGqZ",
        "outputId": "3d0d88c7-866e-47cf-f8e7-d29f3b5a336d"
      },
      "source": [
        "from matplotlib import pyplot as plt  # Import for graphing\n",
        "\n",
        "# Elbow method for assessing k number of clusters\n",
        "wcss = [] # Null dataframe to store sum of squared distances\n",
        "K = range(2, 30)  # Range to assess\n",
        "for k in K:\n",
        "    print(\"Beginning k = \" + str(k))\n",
        "    kmeans_k = KMeans(n_clusters=k, n_jobs=None).fit(df) # Fitting to k number of clusters\n",
        "    wcss.append(kmeans_k.inertia_) # Storing data\n",
        "\n",
        "# Elbow methog graphing\n",
        "plt.plot(K, wcss, 'bx-')\n",
        "plt.xlabel('k')\n",
        "plt.ylabel('Sum_of_squared_distances')\n",
        "plt.title('Elbow Method For Optimal k')\n",
        "plt.show()"
      ],
      "execution_count": null,
      "outputs": [
        {
          "output_type": "stream",
          "name": "stdout",
          "text": [
            "Beginning k = 2\n",
            "Beginning k = 3\n",
            "Beginning k = 4\n",
            "Beginning k = 5\n",
            "Beginning k = 6\n",
            "Beginning k = 7\n",
            "Beginning k = 8\n",
            "Beginning k = 9\n",
            "Beginning k = 10\n",
            "Beginning k = 11\n",
            "Beginning k = 12\n",
            "Beginning k = 13\n",
            "Beginning k = 14\n",
            "Beginning k = 15\n",
            "Beginning k = 16\n",
            "Beginning k = 17\n",
            "Beginning k = 18\n",
            "Beginning k = 19\n",
            "Beginning k = 20\n",
            "Beginning k = 21\n",
            "Beginning k = 22\n",
            "Beginning k = 23\n",
            "Beginning k = 24\n",
            "Beginning k = 25\n",
            "Beginning k = 26\n",
            "Beginning k = 27\n",
            "Beginning k = 28\n",
            "Beginning k = 29\n"
          ]
        },
        {
          "output_type": "display_data",
          "data": {
            "image/png": "[encoded data removed]",
            "text/plain": [
              "<Figure size 432x288 with 1 Axes>"
            ]
          },
          "metadata": {
            "needs_background": "light"
          }
        }
      ]
    }
  ]
}